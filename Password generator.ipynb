{
  "nbformat": 4,
  "nbformat_minor": 0,
  "metadata": {
    "colab": {
      "provenance": [],
      "authorship_tag": "ABX9TyOiSilM5VJnjJ4GbR3omIPB",
      "include_colab_link": true
    },
    "kernelspec": {
      "name": "python3",
      "display_name": "Python 3"
    },
    "language_info": {
      "name": "python"
    }
  },
  "cells": [
    {
      "cell_type": "markdown",
      "metadata": {
        "id": "view-in-github",
        "colab_type": "text"
      },
      "source": [
        "<a href=\"https://colab.research.google.com/github/ksaishivani/Heart-disease/blob/main/Password%20generator.ipynb\" target=\"_parent\"><img src=\"https://colab.research.google.com/assets/colab-badge.svg\" alt=\"Open In Colab\"/></a>"
      ]
    },
    {
      "cell_type": "code",
      "execution_count": null,
      "metadata": {
        "colab": {
          "base_uri": "https://localhost:8080/"
        },
        "id": "h4rmASZZgiOd",
        "outputId": "3f483009-a039-464e-dd16-49089cd358e9"
      },
      "outputs": [
        {
          "output_type": "stream",
          "name": "stdout",
          "text": [
            "=== Strong Password Generator ===\n",
            "Password length: 9779\n",
            "Enter a number between 1 and 2048.\n"
          ]
        }
      ],
      "source": [
        "\n",
        "import string, secrets\n",
        "\n",
        "def ask(prompt, min_val=1, max_val=2048):\n",
        "    while True:\n",
        "        try:\n",
        "            n = int(input(prompt).strip())\n",
        "            if min_val <= n <= max_val: return n\n",
        "        except: pass\n",
        "        print(f\"Enter a number between {min_val} and {max_val}.\")\n",
        "\n",
        "def ask_yn(prompt):\n",
        "    return input(prompt + \" (y/n): \").strip().lower() == \"y\"\n",
        "\n",
        "def gen_pwd(length, lower=1, upper=1, digits=1, symbols=1):\n",
        "    pools = []\n",
        "    if lower:  pools.append(string.ascii_lowercase)\n",
        "    if upper:  pools.append(string.ascii_uppercase)\n",
        "    if digits: pools.append(string.digits)\n",
        "    if symbols:pools.append(\"!@#$%^&*()-_=+[]{};:,.?/\\\\|~`\")\n",
        "    if not pools: raise ValueError(\"Select at least one set\")\n",
        "    if length < len(pools): raise ValueError(f\"Min length {len(pools)}\")\n",
        "    pwd = [secrets.choice(p) for p in pools]\n",
        "    allchars = \"\".join(pools)\n",
        "    pwd += [secrets.choice(allchars) for _ in range(length - len(pools))]\n",
        "    secrets.SystemRandom().shuffle(pwd)\n",
        "    return \"\".join(pwd)\n",
        "\n",
        "if __name__ == \"__main__\":\n",
        "    print(\"=== Strong Password Generator ===\")\n",
        "    n = ask(\"Password length: \")\n",
        "    opts = [ask_yn(\"Lowercase?\"), ask_yn(\"Uppercase?\"), ask_yn(\"Digits?\"), ask_yn(\"Symbols?\")]\n",
        "    try:\n",
        "        print(\"\\nGenerated:\", gen_pwd(n, *opts))\n",
        "    except Exception as e:\n",
        "        print(\"Error:\", e)"
      ]
    }
  ]
}